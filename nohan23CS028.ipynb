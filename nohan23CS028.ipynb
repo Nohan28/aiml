{
  "nbformat": 4,
  "nbformat_minor": 0,
  "metadata": {
    "colab": {
      "provenance": [],
      "include_colab_link": true
    },
    "kernelspec": {
      "name": "python3",
      "display_name": "Python 3"
    },
    "language_info": {
      "name": "python"
    }
  },
  "cells": [
    {
      "cell_type": "markdown",
      "metadata": {
        "id": "view-in-github",
        "colab_type": "text"
      },
      "source": [
        "<a href=\"https://colab.research.google.com/github/Nohan28/aiml/blob/main/nohan23CS028.ipynb\" target=\"_parent\"><img src=\"https://colab.research.google.com/assets/colab-badge.svg\" alt=\"Open In Colab\"/></a>"
      ]
    },
    {
      "cell_type": "code",
      "execution_count": null,
      "metadata": {
        "colab": {
          "base_uri": "https://localhost:8080/"
        },
        "id": "kF7WYPyW5EEd",
        "outputId": "92ac1992-97b2-4a75-f5ce-580181da1e7a"
      },
      "outputs": [
        {
          "output_type": "stream",
          "name": "stdout",
          "text": [
            "[6, 12, 18]\n"
          ]
        }
      ],
      "source": [
        "numbers = list(range(1, 21))\n",
        "filtered = list(filter(lambda x: x % 2 == 0 and x % 3 == 0, numbers))\n",
        "print(filtered)"
      ]
    },
    {
      "cell_type": "code",
      "source": [
        "number=[1,2,3,4,5,6,7,8,9,10,11,12,13,14,15,16,17,18,19,20]\n",
        "even_number=list(filter(lambda x:x%2==0,number))\n",
        "print(even_number)"
      ],
      "metadata": {
        "colab": {
          "base_uri": "https://localhost:8080/"
        },
        "id": "m1aksE6N1ZWr",
        "outputId": "ee2a1aca-459c-4024-b0d7-2c3ec1894479"
      },
      "execution_count": null,
      "outputs": [
        {
          "output_type": "stream",
          "name": "stdout",
          "text": [
            "[2, 4, 6, 8, 10, 12, 14, 16, 18, 20]\n"
          ]
        }
      ]
    },
    {
      "cell_type": "code",
      "source": [
        "squer=lambda x:x**2\n",
        "print(squer(5))"
      ],
      "metadata": {
        "colab": {
          "base_uri": "https://localhost:8080/"
        },
        "id": "MvtGoB4h3_FP",
        "outputId": "9aa06573-900f-4d40-b9bb-05141c333aca"
      },
      "execution_count": null,
      "outputs": [
        {
          "output_type": "stream",
          "name": "stdout",
          "text": [
            "25\n"
          ]
        }
      ]
    },
    {
      "cell_type": "code",
      "source": [
        "multiply=lambda x,y,z:x*y*z\n",
        "print(multiply(2,3,4))"
      ],
      "metadata": {
        "colab": {
          "base_uri": "https://localhost:8080/"
        },
        "id": "HJASWs6T5LZf",
        "outputId": "1d25fb4b-7529-45ea-9015-ab1a4a720b78"
      },
      "execution_count": null,
      "outputs": [
        {
          "output_type": "stream",
          "name": "stdout",
          "text": [
            "24\n"
          ]
        }
      ]
    },
    {
      "cell_type": "code",
      "source": [
        "number=[10,15,20,25,30]\n",
        "odd=list(filter(lambda x:x%2!=0,number))\n",
        "print(odd)"
      ],
      "metadata": {
        "colab": {
          "base_uri": "https://localhost:8080/"
        },
        "id": "yQYr6vyK59DJ",
        "outputId": "414b4eb8-8b61-4aea-e282-643fef5adbc1"
      },
      "execution_count": null,
      "outputs": [
        {
          "output_type": "stream",
          "name": "stdout",
          "text": [
            "[15, 25]\n"
          ]
        }
      ]
    },
    {
      "cell_type": "code",
      "source": [
        "student=[\n",
        "    {\"name\":\"alice\",\"score\":85},\n",
        "    {\"name\":\"bob\",\"score\":92},\n",
        "    {\"name\":\"charlie\",\"score\":78}\n",
        "]\n",
        "sorted_student=sorted(student,key=lambda student:student[\"score\"])\n",
        "print(sorted_student)"
      ],
      "metadata": {
        "colab": {
          "base_uri": "https://localhost:8080/"
        },
        "id": "dyH-z4ny6eif",
        "outputId": "63d817a4-904c-4234-f5dc-27044e251218"
      },
      "execution_count": null,
      "outputs": [
        {
          "output_type": "stream",
          "name": "stdout",
          "text": [
            "[{'name': 'charlie', 'score': 78}, {'name': 'alice', 'score': 85}, {'name': 'bob', 'score': 92}]\n"
          ]
        }
      ]
    },
    {
      "cell_type": "code",
      "source": [
        "check_even=lambda x:\"even\" if x%2==0 else \"odd\"\n",
        "print(check_even(4))\n",
        "print(check_even(7))"
      ],
      "metadata": {
        "colab": {
          "base_uri": "https://localhost:8080/"
        },
        "id": "jtD1yJ7u70mu",
        "outputId": "9ffc1df7-b345-4d08-ac30-c200f15f6178"
      },
      "execution_count": null,
      "outputs": [
        {
          "output_type": "stream",
          "name": "stdout",
          "text": [
            "even\n",
            "odd\n"
          ]
        }
      ]
    },
    {
      "cell_type": "code",
      "source": [],
      "metadata": {
        "id": "kJp0TE3U8gSv"
      },
      "execution_count": null,
      "outputs": []
    },
    {
      "cell_type": "code",
      "source": [
        "numbers = [2, 4, 6, 8]\n",
        "\n",
        "all_even = all(map(lambda x: x % 2 == 0, numbers))\n",
        "print(all_even)\n",
        "\n",
        "any_gt_5 = any(map(lambda x: x > 5, numbers))\n",
        "print(any_gt_5)"
      ],
      "metadata": {
        "colab": {
          "base_uri": "https://localhost:8080/"
        },
        "id": "OeukhEnj8gTq",
        "outputId": "d9faa452-bead-4563-d317-9e5f0f75d890"
      },
      "execution_count": null,
      "outputs": [
        {
          "output_type": "stream",
          "name": "stdout",
          "text": [
            "True\n",
            "True\n"
          ]
        }
      ]
    },
    {
      "cell_type": "code",
      "source": [],
      "metadata": {
        "id": "PP5y6ABj86EX"
      },
      "execution_count": null,
      "outputs": []
    },
    {
      "cell_type": "code",
      "source": [
        "words = [\"apple\", \"banana\", \"cherry\", \"fig\"]\n",
        "sorted_words = sorted(words, key=lambda word: len(word))\n",
        "print(sorted_words)"
      ],
      "metadata": {
        "colab": {
          "base_uri": "https://localhost:8080/"
        },
        "id": "gLG_F2sC86Fa",
        "outputId": "1679d2cb-5b66-4501-e270-4fe4922f5a21"
      },
      "execution_count": null,
      "outputs": [
        {
          "output_type": "stream",
          "name": "stdout",
          "text": [
            "['fig', 'apple', 'banana', 'cherry']\n"
          ]
        }
      ]
    },
    {
      "cell_type": "code",
      "source": [
        "numbers = list(range(1, 21))\n",
        "filtered = list(filter(lambda x: x % 2 == 0 and x % 3 == 0, numbers))\n",
        "print(filtered)"
      ],
      "metadata": {
        "colab": {
          "base_uri": "https://localhost:8080/"
        },
        "id": "cyaokXcs9aw0",
        "outputId": "4c8fd994-69a9-40b5-a23d-352b54473b10"
      },
      "execution_count": null,
      "outputs": [
        {
          "output_type": "stream",
          "name": "stdout",
          "text": [
            "[6, 12, 18]\n"
          ]
        }
      ]
    },
    {
      "cell_type": "code",
      "source": [
        "n = lambda x: \"Positive\" if x > 0 else \"Negative\" if x < 0 else \"Zero\"\n",
        "print(n(5))\n",
        "print(n(-3))\n",
        "print(n(0))"
      ],
      "metadata": {
        "colab": {
          "base_uri": "https://localhost:8080/"
        },
        "id": "QxZtGbf39EpO",
        "outputId": "9b0112c2-c9bd-4a7b-f3f8-26b15aea1e81"
      },
      "execution_count": null,
      "outputs": [
        {
          "output_type": "stream",
          "name": "stdout",
          "text": [
            "Positive\n",
            "Negative\n",
            "Zero\n"
          ]
        }
      ]
    },
    {
      "cell_type": "code",
      "source": [
        "people = [\"Alice Johnson\", \"Bob Smith\", \"Charlie Brown\"]\n",
        "sorted_by_last = sorted(people, key=lambda name: name.split()[-1])\n",
        "print(sorted_by_last)"
      ],
      "metadata": {
        "colab": {
          "base_uri": "https://localhost:8080/"
        },
        "id": "l8raJ62A9EqP",
        "outputId": "26687328-cc88-43b4-8637-e690253e6e89"
      },
      "execution_count": null,
      "outputs": [
        {
          "output_type": "stream",
          "name": "stdout",
          "text": [
            "['Charlie Brown', 'Alice Johnson', 'Bob Smith']\n"
          ]
        }
      ]
    },
    {
      "cell_type": "code",
      "source": [
        "operations = {\n",
        "'add': lambda x, y: x + y,\n",
        "'sub': lambda x, y: x - y,\n",
        "'mul': lambda x, y: x * y,\n",
        "'div': lambda x, y: x / y if y != 0 else 'Error'\n",
        "}\n",
        "print(operations['add'](10, 5))\n",
        "print(operations['div'](10, 0))"
      ],
      "metadata": {
        "colab": {
          "base_uri": "https://localhost:8080/"
        },
        "id": "lJHRY3449PI9",
        "outputId": "a73cee66-2020-4494-aa65-9d47d8cc7456"
      },
      "execution_count": null,
      "outputs": [
        {
          "output_type": "stream",
          "name": "stdout",
          "text": [
            "15\n",
            "Error\n"
          ]
        }
      ]
    },
    {
      "cell_type": "code",
      "source": [
        "li = [lambda arg=x: arg * 10 for x in range(1, 5)]\n",
        "for i in li:\n",
        "  print(i())"
      ],
      "metadata": {
        "colab": {
          "base_uri": "https://localhost:8080/"
        },
        "id": "fdmIqNts9j_F",
        "outputId": "33428bfd-fbb4-4d24-c273-531e20605954"
      },
      "execution_count": null,
      "outputs": [
        {
          "output_type": "stream",
          "name": "stdout",
          "text": [
            "10\n",
            "20\n",
            "30\n",
            "40\n"
          ]
        }
      ]
    },
    {
      "cell_type": "code",
      "source": [
        "numbers = list(range(1, 21))\n",
        "filtered = list(filter(lambda x: x % 2 == 0 and x % 3 == 0, numbers))\n",
        "print(filtered)\n"
      ],
      "metadata": {
        "colab": {
          "base_uri": "https://localhost:8080/"
        },
        "id": "edPLz6MZ95p9",
        "outputId": "de4e2df9-3b91-45c2-ee3e-65c434d53993"
      },
      "execution_count": null,
      "outputs": [
        {
          "output_type": "stream",
          "name": "stdout",
          "text": [
            "[6, 12, 18]\n"
          ]
        }
      ]
    },
    {
      "cell_type": "code",
      "source": [
        "import numpy as np\n",
        "import pandas as pd\n",
        "exam_data = {'name': ['Manish', 'Dhiraj','Man', 'Dhir'],\n",
        "'score': [12.5, 91,20.5, 19]}\n",
        "df = pd.DataFrame(exam_data )\n",
        "df = df.rename(columns={'name': 'NAME', 'score': 'SCORE'})\n",
        "print(\"New DataFrame after renaming columns:\")\n",
        "print(df)"
      ],
      "metadata": {
        "colab": {
          "base_uri": "https://localhost:8080/"
        },
        "id": "Vdx-bOHwHyaI",
        "outputId": "b9cf86ca-0f42-4027-db41-553c3143c141"
      },
      "execution_count": null,
      "outputs": [
        {
          "output_type": "stream",
          "name": "stdout",
          "text": [
            "New DataFrame after renaming columns:\n",
            "     NAME  SCORE\n",
            "0  Manish   12.5\n",
            "1  Dhiraj   91.0\n",
            "2     Man   20.5\n",
            "3    Dhir   19.0\n"
          ]
        }
      ]
    },
    {
      "cell_type": "code",
      "source": [
        "import pandas as pd\n",
        "import numpy  as np\n",
        "s1=pd.Series(['100'])"
      ],
      "metadata": {
        "id": "j017oxh3CJu7"
      },
      "execution_count": null,
      "outputs": []
    },
    {
      "cell_type": "code",
      "source": [
        "import numpy as np\n",
        "arr = np.array([1, 2, 3, 4])\n",
        "print(arr.sum())"
      ],
      "metadata": {
        "colab": {
          "base_uri": "https://localhost:8080/"
        },
        "id": "P51t0ZBOf5qK",
        "outputId": "3f1b4d9f-6ce1-487d-eb58-eb4d165dd6ee"
      },
      "execution_count": null,
      "outputs": [
        {
          "output_type": "stream",
          "name": "stdout",
          "text": [
            "10\n"
          ]
        }
      ]
    },
    {
      "cell_type": "code",
      "source": [
        "import numpy as np\n",
        "arr = np.array([1, 2, 3, 4])\n",
        "print(arr.mean())"
      ],
      "metadata": {
        "colab": {
          "base_uri": "https://localhost:8080/"
        },
        "id": "HHwcMxxZgNf7",
        "outputId": "99d4c45a-1085-4c10-d9ec-26430ea353a8"
      },
      "execution_count": null,
      "outputs": [
        {
          "output_type": "stream",
          "name": "stdout",
          "text": [
            "2.5\n"
          ]
        }
      ]
    },
    {
      "cell_type": "code",
      "source": [
        "import numpy as np\n",
        "arr = np.array([1, 2, 3, 4])\n",
        "print(arr.min())\n",
        "print(arr.max())"
      ],
      "metadata": {
        "colab": {
          "base_uri": "https://localhost:8080/"
        },
        "id": "Dv4tvISvgRfZ",
        "outputId": "46709f40-d4ae-4822-e8c6-d2b34e6a7775"
      },
      "execution_count": null,
      "outputs": [
        {
          "output_type": "stream",
          "name": "stdout",
          "text": [
            "1\n",
            "4\n"
          ]
        }
      ]
    },
    {
      "cell_type": "code",
      "source": [
        "import numpy as np\n",
        "import random\n",
        "array = np.random.randint(16,size=(4,4))\n",
        "print(\"Input Array: \\n\",array)\n",
        "print(\"largest number in x axis: \",np.max(array,axis=1))\n",
        "print(\"largest number in y axis: \",np.max(array,axis=0))"
      ],
      "metadata": {
        "colab": {
          "base_uri": "https://localhost:8080/"
        },
        "id": "m5krjGECgfPp",
        "outputId": "ffd740f7-a45f-47ae-9a20-fb2a8d3a79b4"
      },
      "execution_count": null,
      "outputs": [
        {
          "output_type": "stream",
          "name": "stdout",
          "text": [
            "Input Array: \n",
            " [[ 2 10 11  0]\n",
            " [13  9  9 14]\n",
            " [ 9 11  5 13]\n",
            " [12  0 11  1]]\n",
            "largest number in x axis:  [11 14 13 12]\n",
            "largest number in y axis:  [13 11 11 14]\n"
          ]
        }
      ]
    },
    {
      "cell_type": "code",
      "source": [
        "import numpy as np\n",
        "arr = np.array([1, 2, 3, 4])\n",
        "print(arr.std())"
      ],
      "metadata": {
        "colab": {
          "base_uri": "https://localhost:8080/"
        },
        "id": "hlYGjfv-hIJg",
        "outputId": "ab80c9e5-c951-4acf-e7ab-970b236673bb"
      },
      "execution_count": null,
      "outputs": [
        {
          "output_type": "stream",
          "name": "stdout",
          "text": [
            "1.118033988749895\n"
          ]
        }
      ]
    },
    {
      "cell_type": "code",
      "source": [
        "arr = np.array([1, 2, 3])\n",
        "print(arr + 2)"
      ],
      "metadata": {
        "colab": {
          "base_uri": "https://localhost:8080/"
        },
        "id": "8f282WDGhu4R",
        "outputId": "60a0c49a-ca62-4ede-f89e-72fe3d4541ed"
      },
      "execution_count": null,
      "outputs": [
        {
          "output_type": "stream",
          "name": "stdout",
          "text": [
            "[3 4 5]\n"
          ]
        }
      ]
    },
    {
      "cell_type": "code",
      "source": [
        "print(np.sin(arr))"
      ],
      "metadata": {
        "colab": {
          "base_uri": "https://localhost:8080/"
        },
        "id": "RueZTW6jh6g3",
        "outputId": "f10b7f85-029b-454f-d8e5-2e19a176a86c"
      },
      "execution_count": null,
      "outputs": [
        {
          "output_type": "stream",
          "name": "stdout",
          "text": [
            "[0.84147098 0.90929743 0.14112001]\n"
          ]
        }
      ]
    },
    {
      "cell_type": "code",
      "source": [
        "import numpy as np\n",
        "arr = np.array([1, 2, 3])\n",
        "arr2 = np.array([1, 2, 3])\n",
        "print(arr + arr2)"
      ],
      "metadata": {
        "colab": {
          "base_uri": "https://localhost:8080/"
        },
        "id": "34K9NFiDiISH",
        "outputId": "2dc2dd8a-e36b-473e-980a-3918e0a04153"
      },
      "execution_count": null,
      "outputs": [
        {
          "output_type": "stream",
          "name": "stdout",
          "text": [
            "[2 4 6]\n"
          ]
        }
      ]
    },
    {
      "cell_type": "code",
      "source": [
        "def square(number):\n",
        "  return number*number\n",
        "nums= [1,2,3,4]\n",
        "squared_numbers = list(map(square,nums))\n",
        "print(squared_numbers)"
      ],
      "metadata": {
        "colab": {
          "base_uri": "https://localhost:8080/"
        },
        "id": "-PxJzZt6juvn",
        "outputId": "9dff6824-bac8-4a89-c313-e689a571af21"
      },
      "execution_count": null,
      "outputs": [
        {
          "output_type": "stream",
          "name": "stdout",
          "text": [
            "[1, 4, 9, 16]\n"
          ]
        }
      ]
    },
    {
      "cell_type": "code",
      "source": [
        "nums1= [1,2,3,4,5,6]\n",
        "squareOfnums1 = list(map(lambda n:n*n,nums1))\n",
        "print(squareOfnums1)"
      ],
      "metadata": {
        "colab": {
          "base_uri": "https://localhost:8080/"
        },
        "id": "1bk1tTcMj6-1",
        "outputId": "cc550400-996b-4ea8-f61f-1f24a239b208"
      },
      "execution_count": null,
      "outputs": [
        {
          "output_type": "stream",
          "name": "stdout",
          "text": [
            "[1, 4, 9, 16, 25, 36]\n"
          ]
        }
      ]
    },
    {
      "cell_type": "code",
      "source": [
        "def is_even(n):\n",
        "  if n % 2 ==0:\n",
        "    return True\n",
        "  else:\n",
        "    return False\n",
        "nums = [1,2,3,4]\n",
        "evens = list(filter(is_even,nums))\n",
        "print(evens)"
      ],
      "metadata": {
        "colab": {
          "base_uri": "https://localhost:8080/"
        },
        "id": "wXPUGM6ikDru",
        "outputId": "0694288e-2ab3-4595-b71a-435fdee47110"
      },
      "execution_count": null,
      "outputs": [
        {
          "output_type": "stream",
          "name": "stdout",
          "text": [
            "[2, 4]\n"
          ]
        }
      ]
    },
    {
      "cell_type": "code",
      "source": [
        "even = list(filter(lambda x: x % 2 == 0, arr))\n",
        "print(\"Even numbers:\", even)"
      ],
      "metadata": {
        "colab": {
          "base_uri": "https://localhost:8080/"
        },
        "id": "g_eBfEIFkkH2",
        "outputId": "202680b5-0a65-475c-c092-af5c7c6da1d8"
      },
      "execution_count": null,
      "outputs": [
        {
          "output_type": "stream",
          "name": "stdout",
          "text": [
            "Even numbers: [np.int64(2)]\n"
          ]
        }
      ]
    },
    {
      "cell_type": "code",
      "source": [
        "from functools import reduce\n",
        "\n",
        "def sum_all(a,b):\n",
        "  return a+b\n",
        "nums = [1,2,3,4]\n",
        "sum = reduce(sum_all,nums)\n",
        "print(sum)"
      ],
      "metadata": {
        "colab": {
          "base_uri": "https://localhost:8080/"
        },
        "id": "D7HlOuP0lDdU",
        "outputId": "65ae9a02-b4a2-4700-e2af-ade3af3cf776"
      },
      "execution_count": null,
      "outputs": [
        {
          "output_type": "stream",
          "name": "stdout",
          "text": [
            "10\n"
          ]
        }
      ]
    },
    {
      "cell_type": "code",
      "source": [
        "total = reduce(lambda x, y: x + y, arr)\n",
        "print(\"Sum using reduce:\", total)"
      ],
      "metadata": {
        "colab": {
          "base_uri": "https://localhost:8080/"
        },
        "id": "C8iFwlKpldOs",
        "outputId": "a234b0de-06b2-4e24-f103-d147edc6e65f"
      },
      "execution_count": null,
      "outputs": [
        {
          "output_type": "stream",
          "name": "stdout",
          "text": [
            "Sum using reduce: 10\n"
          ]
        }
      ]
    },
    {
      "cell_type": "code",
      "source": [
        "import numpy as np\n",
        "arr=np.array([1,2,3,4])\n",
        "print(arr.std())"
      ],
      "metadata": {
        "colab": {
          "base_uri": "https://localhost:8080/"
        },
        "id": "w6fPK3GJlfgs",
        "outputId": "636594b3-2ca7-4656-ffa5-2ca712005882"
      },
      "execution_count": null,
      "outputs": [
        {
          "output_type": "stream",
          "name": "stdout",
          "text": [
            "1.118033988749895\n"
          ]
        }
      ]
    },
    {
      "cell_type": "code",
      "source": [
        "import numpy as np\n",
        "arr=np.array([1,2,3])\n",
        "print(np.sin(arr))"
      ],
      "metadata": {
        "colab": {
          "base_uri": "https://localhost:8080/"
        },
        "id": "cPCY_AI9mU2c",
        "outputId": "d3fbd324-7a2d-4ab4-9440-adeac553453c"
      },
      "execution_count": null,
      "outputs": [
        {
          "output_type": "stream",
          "name": "stdout",
          "text": [
            "[0.84147098 0.90929743 0.14112001]\n"
          ]
        }
      ]
    },
    {
      "cell_type": "code",
      "source": [
        "nums = [1,2,3,4]\n",
        "evens = list(filter(lambda n:n%2==0,nums))\n",
        "print(evens)"
      ],
      "metadata": {
        "colab": {
          "base_uri": "https://localhost:8080/"
        },
        "id": "CeQmYDubm2br",
        "outputId": "c47fb58e-1ee0-4884-d6c2-ed6aff14ae2e"
      },
      "execution_count": null,
      "outputs": [
        {
          "output_type": "stream",
          "name": "stdout",
          "text": [
            "[2, 4]\n"
          ]
        }
      ]
    },
    {
      "cell_type": "code",
      "source": [
        "data = pd.Series([10, 20, 30, 40], index=['a','b','c','d'])\n",
        "print(data)"
      ],
      "metadata": {
        "colab": {
          "base_uri": "https://localhost:8080/"
        },
        "id": "TH9Z0dTGnS-h",
        "outputId": "0d9b9a42-76df-4b4a-fe79-bb0e84ed4e06"
      },
      "execution_count": null,
      "outputs": [
        {
          "output_type": "stream",
          "name": "stdout",
          "text": [
            "a    10\n",
            "b    20\n",
            "c    30\n",
            "d    40\n",
            "dtype: int64\n"
          ]
        }
      ]
    },
    {
      "cell_type": "code",
      "source": [
        "import pandas as pd\n",
        "data = {\n",
        "    \"Name\": [\"Alice\", \"Bob\", \"Charlie\"],\n",
        "    \"Age\": [25, 30, 35],\n",
        "    \"City\": [\"Delhi\", \"Mumbai\", \"Bangalore\"]\n",
        "}\n",
        "df = pd.DataFrame(data)\n",
        "print(df)\n"
      ],
      "metadata": {
        "colab": {
          "base_uri": "https://localhost:8080/"
        },
        "id": "bHL71WVkoEu6",
        "outputId": "b2b9562f-96a9-446d-837d-17b55225ba53"
      },
      "execution_count": null,
      "outputs": [
        {
          "output_type": "stream",
          "name": "stdout",
          "text": [
            "      Name  Age       City\n",
            "0    Alice   25      Delhi\n",
            "1      Bob   30     Mumbai\n",
            "2  Charlie   35  Bangalore\n"
          ]
        }
      ]
    },
    {
      "cell_type": "code",
      "source": [
        "import pandas as pd\n",
        "data = {\n",
        "    \"Name\": [\"Alice\", \"Bob\", \"Charlie\"],\n",
        "    \"Age\": [25, 30, 35],\n",
        "    \"City\": [\"Delhi\", \"Mumbai\", \"Bangalore\"]\n",
        "}\n",
        "df = pd.DataFrame(data)\n",
        "\n",
        "\n",
        "print(df['Name'])\n",
        "\n",
        "\n",
        "print(df.loc[0])\n",
        "print(df.iloc[1])\n",
        "print(df.iloc[2])"
      ],
      "metadata": {
        "colab": {
          "base_uri": "https://localhost:8080/"
        },
        "id": "nW8MRbbKrI09",
        "outputId": "a7434f2b-8a62-4e40-e7a6-4ecf5f3bfe90"
      },
      "execution_count": null,
      "outputs": [
        {
          "output_type": "stream",
          "name": "stdout",
          "text": [
            "0      Alice\n",
            "1        Bob\n",
            "2    Charlie\n",
            "Name: Name, dtype: object\n",
            "Name    Alice\n",
            "Age        25\n",
            "City    Delhi\n",
            "Name: 0, dtype: object\n",
            "Name       Bob\n",
            "Age         30\n",
            "City    Mumbai\n",
            "Name: 1, dtype: object\n",
            "Name      Charlie\n",
            "Age            35\n",
            "City    Bangalore\n",
            "Name: 2, dtype: object\n"
          ]
        }
      ]
    },
    {
      "cell_type": "code",
      "source": [
        "filtered = df[df['Age'] > 25]\n",
        "print(filtered)\n"
      ],
      "metadata": {
        "colab": {
          "base_uri": "https://localhost:8080/"
        },
        "id": "usUDPKersM4d",
        "outputId": "c6a65e16-ab02-4884-cf92-41982719708f"
      },
      "execution_count": null,
      "outputs": [
        {
          "output_type": "stream",
          "name": "stdout",
          "text": [
            "      Name  Age       City\n",
            "1      Bob   30     Mumbai\n",
            "2  Charlie   35  Bangalore\n"
          ]
        }
      ]
    },
    {
      "cell_type": "code",
      "source": [
        "import pandas as pd\n",
        "\n",
        "\n",
        "data = {\n",
        "    'Name': ['Alice', 'Bob', 'Charlie'],\n",
        "    'Age': [25, 30, 35],\n",
        "    'City': ['Delhi', 'Mumbai', 'Bangalore']\n",
        "}\n",
        "df = pd.DataFrame(data)\n",
        "\n",
        "\n",
        "print(df)\n",
        "\n",
        "\n",
        "df['Salary'] = [50000, 60000, 70000]\n",
        "\n",
        "\n",
        "df['Age'] = df['Age'] + 1\n",
        "\n",
        "\n",
        "print(\"\\nUpdated DataFrame:\")\n",
        "print(df)\n"
      ],
      "metadata": {
        "colab": {
          "base_uri": "https://localhost:8080/"
        },
        "id": "KVcW17P_srjM",
        "outputId": "8ab42de3-caad-471f-f466-ff85e2f188d0"
      },
      "execution_count": null,
      "outputs": [
        {
          "output_type": "stream",
          "name": "stdout",
          "text": [
            "      Name  Age       City\n",
            "0    Alice   25      Delhi\n",
            "1      Bob   30     Mumbai\n",
            "2  Charlie   35  Bangalore\n",
            "\n",
            "Updated DataFrame:\n",
            "      Name  Age       City  Salary\n",
            "0    Alice   26      Delhi   50000\n",
            "1      Bob   31     Mumbai   60000\n",
            "2  Charlie   36  Bangalore   70000\n"
          ]
        }
      ]
    },
    {
      "cell_type": "code",
      "source": [
        "df[\"Salary\"] = [50000, 60000, 70000]\n",
        "\n",
        "df[\"Age\"] = df[\"Age\"] + 1"
      ],
      "metadata": {
        "id": "TTg8QVg6tDCL"
      },
      "execution_count": null,
      "outputs": []
    },
    {
      "cell_type": "code",
      "source": [
        "import pandas as pd\n",
        "\n",
        "\n",
        "lst = ['Apple', 'Mango', 'Banana', 'Pine Apple', 'Grapes', 'Watermelon']\n",
        "\n",
        "\n",
        "df = pd.DataFrame(lst)\n",
        "\n",
        "print(df)\n"
      ],
      "metadata": {
        "colab": {
          "base_uri": "https://localhost:8080/"
        },
        "id": "Gsi6dKeatcEU",
        "outputId": "9513e1a6-0fa9-4e9a-a870-ac317dfb87f5"
      },
      "execution_count": null,
      "outputs": [
        {
          "output_type": "stream",
          "name": "stdout",
          "text": [
            "            0\n",
            "0       Apple\n",
            "1       Mango\n",
            "2      Banana\n",
            "3  Pine Apple\n",
            "4      Grapes\n",
            "5  Watermelon\n"
          ]
        }
      ]
    },
    {
      "cell_type": "code",
      "source": [
        "import pandas as pd\n",
        "\n",
        "\n",
        "data = {'Name': ['Tom', 'nick', 'krish', 'jack'], 'Age': [20, 21, 19, 18]}\n",
        "\n",
        "\n",
        "df = pd.DataFrame(data)\n",
        "\n",
        "\n",
        "print(df)\n"
      ],
      "metadata": {
        "colab": {
          "base_uri": "https://localhost:8080/"
        },
        "id": "CfoABkQXt9By",
        "outputId": "21391229-47f6-422c-f200-d0c5174b2894"
      },
      "execution_count": null,
      "outputs": [
        {
          "output_type": "stream",
          "name": "stdout",
          "text": [
            "    Name  Age\n",
            "0    Tom   20\n",
            "1   nick   21\n",
            "2  krish   19\n",
            "3   jack   18\n"
          ]
        }
      ]
    },
    {
      "cell_type": "code",
      "source": [
        "import pandas as pd\n",
        "\n",
        "data = {\n",
        "    'Department': ['HR', 'HR', 'IT', 'IT', 'Finance', 'Finance'],\n",
        "    'Employee': ['Alice', 'Bob', 'Charlie', 'David', 'Eva', 'Frank'],\n",
        "    'Salary': [50000, 55000, 60000, 65000, 70000, 72000],\n",
        "    'Age': [25, 30, 28, 32, 40, 38]\n",
        "}\n",
        "\n",
        "df = pd.DataFrame(data)\n",
        "print(df)\n",
        "\n"
      ],
      "metadata": {
        "colab": {
          "base_uri": "https://localhost:8080/"
        },
        "id": "MCo9jNuSunXa",
        "outputId": "efc2f51e-53f9-457e-ab81-6f80f4cd4478"
      },
      "execution_count": null,
      "outputs": [
        {
          "output_type": "stream",
          "name": "stdout",
          "text": [
            "  Department Employee  Salary  Age\n",
            "0         HR    Alice   50000   25\n",
            "1         HR      Bob   55000   30\n",
            "2         IT  Charlie   60000   28\n",
            "3         IT    David   65000   32\n",
            "4    Finance      Eva   70000   40\n",
            "5    Finance    Frank   72000   38\n"
          ]
        }
      ]
    },
    {
      "cell_type": "code",
      "source": [
        "\n",
        "print(df['Salary'].mean())\n",
        "\n",
        "\n",
        "print(df['Age'].max())\n"
      ],
      "metadata": {
        "colab": {
          "base_uri": "https://localhost:8080/"
        },
        "id": "nvUT7CfUwLhZ",
        "outputId": "1936abb9-a63e-468b-8429-79777963e294"
      },
      "execution_count": null,
      "outputs": [
        {
          "output_type": "stream",
          "name": "stdout",
          "text": [
            "62000.0\n",
            "40\n"
          ]
        }
      ]
    },
    {
      "cell_type": "code",
      "source": [
        "grouped = df.groupby('Department')['Salary'].mean()\n",
        "print(grouped)\n"
      ],
      "metadata": {
        "colab": {
          "base_uri": "https://localhost:8080/"
        },
        "id": "Tpp1mHQLwcuw",
        "outputId": "eea3a981-2438-432e-9f0d-a1163ee6c00c"
      },
      "execution_count": null,
      "outputs": [
        {
          "output_type": "stream",
          "name": "stdout",
          "text": [
            "Department\n",
            "Finance    71000.0\n",
            "HR         52500.0\n",
            "IT         62500.0\n",
            "Name: Salary, dtype: float64\n"
          ]
        }
      ]
    },
    {
      "cell_type": "code",
      "source": [
        "grouped = df.groupby('Department')['Salary'].agg(['mean', 'max', 'min'])\n",
        "print(grouped)\n"
      ],
      "metadata": {
        "colab": {
          "base_uri": "https://localhost:8080/"
        },
        "id": "zL0-5LK7w6nH",
        "outputId": "1326de34-afbe-4bab-c25b-862c14732a53"
      },
      "execution_count": null,
      "outputs": [
        {
          "output_type": "stream",
          "name": "stdout",
          "text": [
            "               mean    max    min\n",
            "Department                       \n",
            "Finance     71000.0  72000  70000\n",
            "HR          52500.0  55000  50000\n",
            "IT          62500.0  65000  60000\n"
          ]
        }
      ]
    },
    {
      "cell_type": "code",
      "source": [
        "import pandas as pd\n",
        "import numpy as np\n",
        "\n",
        "\n",
        "dates = pd.date_range(start='2024-01-01', periods=10, freq='D')\n",
        "\n",
        "\n",
        "ts = pd.Series(np.random.randint(100, 200, size=10), index=dates)\n",
        "\n",
        "print(ts)\n"
      ],
      "metadata": {
        "colab": {
          "base_uri": "https://localhost:8080/"
        },
        "id": "HdrpWcjyxniI",
        "outputId": "ffcc54c9-a0d2-40af-ab33-f9dd2e6cca9d"
      },
      "execution_count": null,
      "outputs": [
        {
          "output_type": "stream",
          "name": "stdout",
          "text": [
            "2024-01-01    156\n",
            "2024-01-02    195\n",
            "2024-01-03    182\n",
            "2024-01-04    108\n",
            "2024-01-05    106\n",
            "2024-01-06    171\n",
            "2024-01-07    138\n",
            "2024-01-08    195\n",
            "2024-01-09    172\n",
            "2024-01-10    157\n",
            "Freq: D, dtype: int64\n"
          ]
        }
      ]
    },
    {
      "cell_type": "code",
      "source": [
        "import pandas as pd\n",
        "\n",
        "df = pd.DataFrame({\n",
        "    'Date': ['2024-01-01', '2024-01-02', '2024-01-03'],\n",
        "    'Value': [120, 135, 150]\n",
        "})\n",
        "\n",
        "\n",
        "df['Date'] = pd.to_datetime(df['Date'])\n",
        "\n",
        "print(df)\n"
      ],
      "metadata": {
        "colab": {
          "base_uri": "https://localhost:8080/"
        },
        "id": "mjSk4bHDyff2",
        "outputId": "f14fa83f-51a3-46a9-f158-94bf3e51c14b"
      },
      "execution_count": null,
      "outputs": [
        {
          "output_type": "stream",
          "name": "stdout",
          "text": [
            "        Date  Value\n",
            "0 2024-01-01    120\n",
            "1 2024-01-02    135\n",
            "2 2024-01-03    150\n"
          ]
        }
      ]
    },
    {
      "cell_type": "code",
      "source": [
        "df.set_index('Date', inplace=True)\n",
        "print(df)\n"
      ],
      "metadata": {
        "colab": {
          "base_uri": "https://localhost:8080/"
        },
        "id": "DigZ2rjyy-tN",
        "outputId": "18f136dd-8480-4b75-ff4c-684ef81e1569"
      },
      "execution_count": null,
      "outputs": [
        {
          "output_type": "stream",
          "name": "stdout",
          "text": [
            "            Value\n",
            "Date             \n",
            "2024-01-01    120\n",
            "2024-01-02    135\n",
            "2024-01-03    150\n"
          ]
        }
      ]
    },
    {
      "cell_type": "code",
      "source": [
        "from functools import reduce\n",
        "import pandas as pd\n",
        "\n",
        "data = {\n",
        "    'Department': ['HR', 'HR', 'IT', 'IT', 'Finance', 'Finance'],\n",
        "    'Employee': ['Alice', 'Bob', 'Charlie', 'David', 'Eva', 'Frank'],\n",
        "    'Salary': [50000, 55000, 60000, 65000, 70000, 72000],\n",
        "    'Age': [25, 30, 28, 32, 40, 38]\n",
        "}\n",
        "\n",
        "df = pd.DataFrame(data)\n",
        "\n",
        "df['Name_Age'] = df.apply(\n",
        "    lambda row: reduce(lambda a, b: str(a) + '_' + str(b), [row['Employee'], row['Age']]),\n",
        "    axis=1\n",
        ")\n",
        "print(df)"
      ],
      "metadata": {
        "colab": {
          "base_uri": "https://localhost:8080/"
        },
        "id": "LKnPKDtk0reE",
        "outputId": "aa62861a-b5d5-4523-a727-ab83f90bae54"
      },
      "execution_count": null,
      "outputs": [
        {
          "output_type": "stream",
          "name": "stdout",
          "text": [
            "  Department Employee  Salary  Age    Name_Age\n",
            "0         HR    Alice   50000   25    Alice_25\n",
            "1         HR      Bob   55000   30      Bob_30\n",
            "2         IT  Charlie   60000   28  Charlie_28\n",
            "3         IT    David   65000   32    David_32\n",
            "4    Finance      Eva   70000   40      Eva_40\n",
            "5    Finance    Frank   72000   38    Frank_38\n"
          ]
        }
      ]
    },
    {
      "cell_type": "code",
      "source": [
        "from functools import reduce\n",
        "import pandas as pd\n",
        "\n",
        "data = {\n",
        "    'Department': ['HR', 'HR', 'IT', 'IT', 'Finance', 'Finance'],\n",
        "    'Employee': ['Alice', 'Bob', 'Charlie', 'David', 'Eva', 'Frank'],\n",
        "    'Salary': [50000, 55000, 60000, 65000, 70000, 72000],\n",
        "    'Age': [25, 30, 28, 32, 40, 38]\n",
        "}\n",
        "\n",
        "df = pd.DataFrame(data)\n",
        "\n",
        "\n",
        "filtered_df = df[df['Salary'] > 52000]\n",
        "\n",
        "filtered_df = df[df['Employee'].apply(lambda x: x.startswith('A'))]"
      ],
      "metadata": {
        "id": "oeXJZiY8qHba"
      },
      "execution_count": null,
      "outputs": []
    },
    {
      "cell_type": "code",
      "source": [
        "\n",
        "df['Location'] = ['Mumbai', 'Delhi', 'Mumbai', 'Delhi', 'Mumbai', 'Delhi']\n",
        "\n",
        "grouped = df.groupby(['Department', 'Location'])['Salary'].mean()\n",
        "print(grouped)"
      ],
      "metadata": {
        "colab": {
          "base_uri": "https://localhost:8080/"
        },
        "id": "zmIdNc6Ksv_j",
        "outputId": "88860f33-7a85-481f-f884-2f29b024b601"
      },
      "execution_count": null,
      "outputs": [
        {
          "output_type": "stream",
          "name": "stdout",
          "text": [
            "Department  Location\n",
            "Finance     Delhi       72000.0\n",
            "            Mumbai      70000.0\n",
            "HR          Delhi       55000.0\n",
            "            Mumbai      50000.0\n",
            "IT          Delhi       65000.0\n",
            "            Mumbai      60000.0\n",
            "Name: Salary, dtype: float64\n"
          ]
        }
      ]
    },
    {
      "cell_type": "code",
      "source": [
        "import pandas as pd\n",
        "import numpy as np\n",
        "from functools import reduce\n",
        "\n",
        "df = pd.DataFrame({\n",
        "'Name': ['Alice', 'Bob', 'Charlie', 'David'],\n",
        "'Age': [25, 32, 30, 29],\n",
        "'Salary': [50000, 60000, 55000, 52000]\n",
        "})\n",
        "print(df)"
      ],
      "metadata": {
        "colab": {
          "base_uri": "https://localhost:8080/"
        },
        "id": "EivLWi0LqZdq",
        "outputId": "28b940a5-5d40-49c8-fd99-647133be3863"
      },
      "execution_count": null,
      "outputs": [
        {
          "output_type": "stream",
          "name": "stdout",
          "text": [
            "      Name  Age  Salary\n",
            "0    Alice   25   50000\n",
            "1      Bob   32   60000\n",
            "2  Charlie   30   55000\n",
            "3    David   29   52000\n"
          ]
        }
      ]
    },
    {
      "cell_type": "code",
      "source": [
        "import pandas as pd\n",
        "import numpy as np\n",
        "from functools import reduce\n",
        "\n",
        "df = pd.DataFrame({\n",
        "'Name': ['Alice', 'Bob', 'Charlie', 'David'],\n",
        "'Age': [25, 32, 30, 29],\n",
        "'Salary': [50000, 60000, 55000, 52000]\n",
        "})\n",
        "print(df)\n",
        "df['Updated_Salary'] = df['Salary'].apply(lambda x: x * 1.10)\n",
        "\n",
        "df['Age_Group'] = df['Age'].apply(lambda x: 'Young' if x < 30 else 'Adult')"
      ],
      "metadata": {
        "colab": {
          "base_uri": "https://localhost:8080/"
        },
        "id": "TmVGPGcaqcyo",
        "outputId": "c37dc09c-8e7f-4bd1-ee7f-d60554e49a4d"
      },
      "execution_count": null,
      "outputs": [
        {
          "output_type": "stream",
          "name": "stdout",
          "text": [
            "      Name  Age  Salary\n",
            "0    Alice   25   50000\n",
            "1      Bob   32   60000\n",
            "2  Charlie   30   55000\n",
            "3    David   29   52000\n"
          ]
        }
      ]
    },
    {
      "cell_type": "code",
      "source": [
        "import matplotlib.pyplot as plt\n",
        "\n",
        "categories = ['Category A', 'Category B', 'Category C', 'Category D', 'Category E']\n",
        "amounts = [25, 50, 30, 20,10]\n",
        "\n",
        "plt.bar(categories, amounts)\n",
        "\n",
        "plt.xlabel('Categories')\n",
        "plt.ylabel('Amounts')\n",
        "plt.title('Bar Chart of Amounts by Categorys')\n",
        "plt.show()"
      ],
      "metadata": {
        "colab": {
          "base_uri": "https://localhost:8080/",
          "height": 472
        },
        "id": "sazXsCXFr3yX",
        "outputId": "37b3e353-5d68-4217-fd48-0021119cd7b5"
      },
      "execution_count": null,
      "outputs": [
        {
          "output_type": "display_data",
          "data": {
            "text/plain": [
              "<Figure size 640x480 with 1 Axes>"
            ],
            "image/png": "[encoded data removed]"
          },
          "metadata": {}
        }
      ]
    },
    {
      "cell_type": "code",
      "source": [
        "import matplotlib.pyplot as plt\n",
        "\n",
        "categories = ['Category A', 'Category B', 'Category C', 'Category D',]\n",
        "amounts = [25, 30, 50, 25]\n",
        "\n",
        "plt.pie(amounts, labels=categories, autopct='%1.1f%%')\n",
        "\n",
        "plt.title('Pie Chart of Amounts by Category')\n"
      ],
      "metadata": {
        "colab": {
          "base_uri": "https://localhost:8080/",
          "height": 445
        },
        "id": "-I-CMmwNvk_k",
        "outputId": "86c1d420-e9be-424b-81d4-5f3ca1989382"
      },
      "execution_count": null,
      "outputs": [
        {
          "output_type": "execute_result",
          "data": {
            "text/plain": [
              "Text(0.5, 1.0, 'Pie Chart of Amounts by Category')"
            ]
          },
          "metadata": {},
          "execution_count": 24
        },
        {
          "output_type": "display_data",
          "data": {
            "text/plain": [
              "<Figure size 640x480 with 1 Axes>"
            ],
            "image/png": "[encoded data removed]"
          },
          "metadata": {}
        }
      ]
    },
    {
      "cell_type": "code",
      "source": [
        "import matplotlib.pyplot as plt\n",
        "\n",
        "years = [2010, 2011, 2012, 2013, 2014]\n",
        "amounts = [100, 120, 140, 110, 150]\n",
        "\n",
        "plt.plot(years, amounts, marker='o', linestyle='-')\n",
        "\n",
        "plt.xlabel('Year')\n",
        "plt.ylabel('Amount')\n",
        "\n",
        "plt.title('Line Chart of Amounts Over Time')\n",
        "\n",
        "plt.grid(True)\n",
        "plt.show()"
      ],
      "metadata": {
        "colab": {
          "base_uri": "https://localhost:8080/",
          "height": 472
        },
        "id": "vpg4cbbq1CI2",
        "outputId": "f3782651-5ed5-45bb-ea1e-be12a523a3c6"
      },
      "execution_count": null,
      "outputs": [
        {
          "output_type": "display_data",
          "data": {
            "text/plain": [
              "<Figure size 640x480 with 1 Axes>"
            ],
            "image/png": "[encoded data removed]"
          },
          "metadata": {}
        }
      ]
    },
    {
      "cell_type": "code",
      "source": [
        "import matplotlib.pyplot as plt\n",
        "\n",
        "x = [10, 20, 30, 40, 50]\n",
        "y = [50, 40, 30, 20, 10]\n",
        "\n",
        "plt.scatter(x, y)\n",
        "\n",
        "plt.xlabel('X-Axis')\n",
        "plt.ylabel('Y-Axis')\n",
        "plt.title('Scatter Plot of X vs. Y')\n",
        "\n",
        "plt.grid(True)\n",
        "plt.show()"
      ],
      "metadata": {
        "colab": {
          "base_uri": "https://localhost:8080/",
          "height": 472
        },
        "id": "fBuby9Rf61KK",
        "outputId": "ee048a52-a1a3-4ccf-9b77-2a0c4768fad1"
      },
      "execution_count": null,
      "outputs": [
        {
          "output_type": "display_data",
          "data": {
            "text/plain": [
              "<Figure size 640x480 with 1 Axes>"
            ],
            "image/png": "[encoded data removed]"
          },
          "metadata": {}
        }
      ]
    },
    {
      "cell_type": "code",
      "source": [
        "import matplotlib.pyplot as plt\n",
        "import numpy as np\n",
        "\n",
        "data = np.random.randn(1000)\n",
        "\n",
        "plt.hist(data, bins=20, edgecolor='k')\n",
        "\n",
        "plt.xlabel('Value')\n",
        "plt.ylabel('Frequency')\n",
        "plt.title('Histogram of Data')\n",
        "\n",
        "plt.show()"
      ],
      "metadata": {
        "colab": {
          "base_uri": "https://localhost:8080/",
          "height": 472
        },
        "id": "se7s3T5S8B-2",
        "outputId": "4a305e29-77ce-47c5-c50e-ab2727316916"
      },
      "execution_count": null,
      "outputs": [
        {
          "output_type": "display_data",
          "data": {
            "text/plain": [
              "<Figure size 640x480 with 1 Axes>"
            ],
            "image/png": "[encoded data removed]"
          },
          "metadata": {}
        }
      ]
    },
    {
      "cell_type": "code",
      "source": [
        "import matplotlib.pyplot as plt\n",
        "import numpy as np\n",
        "\n",
        "mu, sigma = 0, 1\n",
        "data = np.random.normal(mu, sigma, 1000)\n",
        "\n",
        "plt.hist(data, bins=30, edgecolor='k', alpha=0.7)\n",
        "\n",
        "plt.xlabel('Value')\n",
        "plt.ylabel('Frequency')\n",
        "plt.title('Histogram of a Normal Distribution')\n",
        "\n",
        "plt.grid(True)\n",
        "plt.show()\n"
      ],
      "metadata": {
        "id": "sjAJb-t080sN",
        "outputId": "dc308b51-8c08-44e5-8b87-7142cc2af6c8",
        "colab": {
          "base_uri": "https://localhost:8080/",
          "height": 472
        }
      },
      "execution_count": null,
      "outputs": [
        {
          "output_type": "display_data",
          "data": {
            "text/plain": [
              "<Figure size 640x480 with 1 Axes>"
            ],
            "image/png": "[encoded data removed]"
          },
          "metadata": {}
        }
      ]
    },
    {
      "cell_type": "code",
      "source": [
        "import matplotlib.pyplot as plt\n",
        "import numpy as np\n",
        "\n",
        "low, high = 0, 10\n",
        "data = np.random.uniform(low, high, 1000)\n",
        "\n",
        "plt.hist(data, bins=20, edgecolor='k', alpha=0.7)\n",
        "\n",
        "plt.xlabel('Value')\n",
        "plt.ylabel('Frequency')\n",
        "plt.title('Histogram of a Uniform Distribution')\n",
        "\n",
        "plt.grid(True)\n",
        "plt.show()"
      ],
      "metadata": {
        "colab": {
          "base_uri": "https://localhost:8080/",
          "height": 472
        },
        "id": "FHkyVmNjLbWF",
        "outputId": "05ec81f1-056c-49a0-e87b-b1ebc30ab53d"
      },
      "execution_count": null,
      "outputs": [
        {
          "output_type": "display_data",
          "data": {
            "text/plain": [
              "<Figure size 640x480 with 1 Axes>"
            ],
            "image/png": "[encoded data removed]"
          },
          "metadata": {}
        }
      ]
    },
    {
      "cell_type": "code",
      "source": [
        "import matplotlib.pyplot as plt\n",
        "import numpy as np\n",
        "\n",
        "scale = 1.0\n",
        "data = np.random.exponential(scale, 1000)\n",
        "\n",
        "plt.hist(data, bins=20, edgecolor='k', alpha=0.7)\n",
        "\n",
        "plt.xlabel('Value')\n",
        "plt.ylabel('Frequency')\n",
        "plt.title('Histogram of an Exponential Distribution')\n",
        "\n",
        "plt.grid(True)\n",
        "plt.show()"
      ],
      "metadata": {
        "id": "BdMXiQ0l2zi2",
        "colab": {
          "base_uri": "https://localhost:8080/",
          "height": 472
        },
        "outputId": "5e69eea0-1dbf-48fb-810d-2375caa89b97"
      },
      "execution_count": null,
      "outputs": [
        {
          "output_type": "display_data",
          "data": {
            "text/plain": [
              "<Figure size 640x480 with 1 Axes>"
            ],
            "image/png": "[encoded data removed]"
          },
          "metadata": {}
        }
      ]
    },
    {
      "cell_type": "code",
      "source": [
        "import seaborn as sns\n",
        "import numpy as np\n",
        "\n",
        "mu, sigma = 0, 1\n",
        "data = np.random.normal(mu, sigma, 1000)\n",
        "\n",
        "sns.kdeplot(data, fill=True)\n",
        "\n",
        "plt.xlabel('Value')\n",
        "plt.ylabel('Density')\n",
        "plt.title('Kernel Density Estimation (KDE) Plot of a Normal Distribution')\n",
        "\n",
        "plt.show()"
      ],
      "metadata": {
        "colab": {
          "base_uri": "https://localhost:8080/",
          "height": 472
        },
        "id": "XUoVsuBN4Dt9",
        "outputId": "909e4ec6-eafb-4474-efa9-718b9a081264"
      },
      "execution_count": null,
      "outputs": [
        {
          "output_type": "display_data",
          "data": {
            "text/plain": [
              "<Figure size 640x480 with 1 Axes>"
            ],
            "image/png": "[encoded data removed]"
          },
          "metadata": {}
        }
      ]
    },
    {
      "cell_type": "code",
      "source": [
        "import seaborn as sns\n",
        "\n",
        "data1 = np.random.normal(0, 1, 1000)\n",
        "data2 = np.random.normal(2, 1, 1000)\n",
        "\n",
        "sns.boxplot(data=[data1, data2])\n",
        "\n",
        "plt.xlabel('Distribution')\n",
        "plt.ylabel('Value')\n",
        "plt.title('Box Plot Comparison of Two Distributions')\n",
        "\n",
        "plt.show()"
      ],
      "metadata": {
        "colab": {
          "base_uri": "https://localhost:8080/",
          "height": 472
        },
        "id": "T9w8izBC6YpF",
        "outputId": "d145ba0c-388a-47cc-ba6b-1275542f0a88"
      },
      "execution_count": null,
      "outputs": [
        {
          "output_type": "display_data",
          "data": {
            "text/plain": [
              "<Figure size 640x480 with 1 Axes>"
            ],
            "image/png": "[encoded data removed]"
          },
          "metadata": {}
        }
      ]
    },
    {
      "cell_type": "code",
      "source": [
        "import matplotlib.pyplot as plt\n",
        "\n",
        "categories = ['Category A', 'Category B', 'Category C']\n",
        "proportions = [0.4, 0.3, 0.3]\n",
        "\n",
        "plt.pie(proportions, labels=categories, autopct='%1.1f%%')\n",
        "\n",
        "\n",
        "plt.title('Pie Chart of Proportions')\n",
        "\n",
        "plt.show()"
      ],
      "metadata": {
        "id": "P4QPwKqpD8nk",
        "outputId": "6bd4e7e2-bfe4-45c0-a4ee-8c9261320d4d",
        "colab": {
          "base_uri": "https://localhost:8080/",
          "height": 428
        }
      },
      "execution_count": null,
      "outputs": [
        {
          "output_type": "display_data",
          "data": {
            "text/plain": [
              "<Figure size 640x480 with 1 Axes>"
            ],
            "image/png": "[encoded data removed]"
          },
          "metadata": {}
        }
      ]
    },
    {
      "cell_type": "code",
      "source": [
        "import matplotlib.pyplot as plt\n",
        "# Sample data representing proportions for multiple categories\n",
        "categories = ['Category A', 'Category B', 'Category C']\n",
        "proportions1 = [0.2, 0.4, 0.1]\n",
        "proportions2 = [0.3, 0.2, 0.4]\n",
        "# Create a stacked bar chart\n",
        "plt.bar(categories, proportions1, label='Group 1')\n",
        "plt.bar(categories, proportions2, bottom=proportions1, label='Group 2')\n",
        "# Adding labels and a legend\n",
        "plt.xlabel('Categories')\n",
        "plt.ylabel('Proportions')\n",
        "plt.title('Stacked Bar Chart of Proportions')\n",
        "plt.legend()\n",
        "# Show the plot\n",
        "plt.show()"
      ],
      "metadata": {
        "id": "5JbgjCc6FKEJ",
        "colab": {
          "base_uri": "https://localhost:8080/",
          "height": 472
        },
        "outputId": "6b6d5e8e-8c5b-44c4-9218-df8fefaaf76c"
      },
      "execution_count": 22,
      "outputs": [
        {
          "output_type": "display_data",
          "data": {
            "text/plain": [
              "<Figure size 640x480 with 1 Axes>"
            ],
            "image/png": "[encoded data removed]"
          },
          "metadata": {}
        }
      ]
    }
  ]
}